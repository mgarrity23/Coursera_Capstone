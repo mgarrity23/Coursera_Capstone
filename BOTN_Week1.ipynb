{
 "cells": [
  {
   "cell_type": "markdown",
   "metadata": {},
   "source": [
    "# Battle of the Neighborhoods Week 1\n",
    "\n",
    "### Introduction/Business Problem\n",
    "\n",
    "The professional sports industry is one of the largest and most profitable industries in the United States. Basketball is also one of the most accessible sports to play. With that being said, the NBA is the second most popular major sports league in the U.S and Canada watched on TV \n",
    "(https://en.wikipedia.org/wiki/Major_professional_sports_leagues_in_the_United_States_and_Canada). Yet it fails to bring in as much revenue as the MLB which has lower TV ratings.\n",
    "\n",
    "Clearly the NBA is missing out on money. One reason for this is because the NBA is not capitalizing on all the available revenue that they could be making. This project is aimed to find a new location for the next NBA team to bring into the league."
   ]
  },
  {
   "cell_type": "markdown",
   "metadata": {},
   "source": [
    "### Data\n",
    "\n",
    "To start deciding where to locate the new team we first need to identify which cities already have loyal fans and already have successful sports teams in that area. In order to do this I will use a list of cities with professional sports \n",
    "(https://en.wikipedia.org/wiki/List_of_American_and_Canadian_cities_by_number_of_major_professional_sports_franchises) and look at cities that do not have an NBA team.\n",
    "\n",
    "Secondly we should look at cities that do not have an NBA team, but do have high incomes, as those people will be more likely to buy box seating and season tickets (https://www.usatoday.com/story/money/economy/2018/05/17/25-richest-cities-in-america/34991163/).\n",
    "\n",
    "Finally we will use the Foursquare API to look at location data of the current nba teams to make sure the new team does not take away fans from a current NBA team (https://en.wikipedia.org/wiki/National_Basketball_Association#Teams)(https://foursquare.com/)."
   ]
  },
  {
   "cell_type": "code",
   "execution_count": null,
   "metadata": {},
   "outputs": [],
   "source": []
  }
 ],
 "metadata": {
  "kernelspec": {
   "display_name": "Python 3",
   "language": "python",
   "name": "python3"
  },
  "language_info": {
   "codemirror_mode": {
    "name": "ipython",
    "version": 3
   },
   "file_extension": ".py",
   "mimetype": "text/x-python",
   "name": "python",
   "nbconvert_exporter": "python",
   "pygments_lexer": "ipython3",
   "version": "3.7.6"
  }
 },
 "nbformat": 4,
 "nbformat_minor": 4
}
